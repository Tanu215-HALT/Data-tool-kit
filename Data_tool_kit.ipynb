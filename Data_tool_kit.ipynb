{
  "nbformat": 4,
  "nbformat_minor": 0,
  "metadata": {
    "colab": {
      "provenance": []
    },
    "kernelspec": {
      "name": "python3",
      "display_name": "Python 3"
    },
    "language_info": {
      "name": "python"
    }
  },
  "cells": [
    {
      "cell_type": "markdown",
      "source": [
        "#Data tool kit theory questions"
      ],
      "metadata": {
        "id": "Xd07iJv7jzPV"
      }
    },
    {
      "cell_type": "markdown",
      "source": [
        "1. What is NumPy, and why is it widely used in Python?\n",
        "\n",
        "-  NumPy (Numerical Python) is a fundamental Python library used for numerical and scientific computing\n",
        "\n",
        "It is used for:\n",
        "\n",
        "Multidimensional array objects (ndarray)\n",
        "\n",
        "Mathematical functions to operate on arrays\n",
        "\n",
        "Linear algebra, Fourier transforms, random number generation, and more\n",
        "\n",
        " Efficient Array Computation:\n",
        "\n",
        "Provides high-performance operations on large arrays and matrices.\n",
        "\n",
        "Internally implemented in C, making it much faster than regular Python lists.\n",
        "\n",
        "\n",
        "Broadcasting:\n",
        "\n",
        "Allows operations on arrays of different shapes without writing explicit loops.\n",
        "\n",
        "Simplifies code and improves performance.\n",
        "\n",
        "Memory Efficiency\n",
        "\n",
        "Uses less memory than native Python lists.\n",
        "\n",
        "Stores data in a contiguous block of memory, improving cache performance.\n",
        "\n",
        "and etc.........\n",
        "\n",
        "\n"
      ],
      "metadata": {
        "id": "6obeG2FVj3cj"
      }
    },
    {
      "cell_type": "markdown",
      "source": [
        "2. How does broadcasting work in NumPy?\n",
        "\n",
        "-  Broadcasting in NumPy is a powerful mechanism that allows arithmetic operations between arrays of different shapes as if they had the same shape—without actually copying data.\n",
        "\n",
        "To apply broadcasting, NumPy compares array shapes starting from the trailing dimensions, and works according to these rules:\n",
        "\n",
        "If dimensions are equal, they are compatible.\n",
        "\n",
        "If one of the dimensions is 1, it is stretched to match the other.\n",
        "\n",
        "If dimensions are unequal and none is 1, broadcasting fails.\n",
        "\n",
        "\n"
      ],
      "metadata": {
        "id": "bXpPe_j9lCLD"
      }
    },
    {
      "cell_type": "markdown",
      "source": [
        "3. What is a Pandas DataFrame?\n",
        "\n",
        "-  A Pandas DataFrame is a 2-dimensional, size-mutable, tabular data structure in Python with labeled axes (rows and columns). It’s like a spreadsheet or SQL table in memory, and is one of the most important data structures in the Pandas library.\n",
        "\n",
        "Its features are:\n",
        "\n",
        "\n",
        "Tabular structure\tRows and columns, like an Excel sheet\n",
        "\n",
        "Labeled axes\tYou can label rows (index) and columns\n",
        "\n",
        "Heterogeneous data\tDifferent data types in different columns\n",
        "\n",
        "Size mutable\tYou can add/remove rows and columns\n",
        "\n",
        "Powerful operations\tEasy filtering, grouping, joining, aggregation\n",
        "\n"
      ],
      "metadata": {
        "id": "V4H6N1_QlXiv"
      }
    },
    {
      "cell_type": "markdown",
      "source": [
        "4. Explain the use of the groupby() method in Pandas.\n",
        "\n",
        "-  The groupby() method in Pandas is used to group rows based on the values in one or more columns, and then apply a function (like sum(), mean(), count(), etc.) to each group.\n",
        "\n",
        "It’s extremely useful for:\n",
        "\n",
        "Data aggregation\n",
        "\n",
        "Summarizing statistics\n",
        "\n",
        "Segmentation analysis\n",
        "\n",
        "Pivot-style operations\n",
        "\n"
      ],
      "metadata": {
        "id": "UpebbTvzlvMS"
      }
    },
    {
      "cell_type": "markdown",
      "source": [
        "5. Why is Seaborn preferred for statistical visualizations?\n",
        "\n",
        "-  Seaborn is a powerful Python data visualization library built on top of matplotlib. It’s widely preferred for statistical visualizations because it makes it easier, cleaner, and more informative to visualize complex datasets.\n",
        "\n",
        "1. High-Level Interface\n",
        "\n",
        "Provides simple, high-level functions for common statistical plots like:\n",
        "sns.barplot(), sns.boxplot(), sns.violinplot(), sns.histplot(), sns.scatterplot()\n",
        "2. Built-in Statistical Aggregation\n",
        "\n",
        "Functions like sns.barplot() and sns.pointplot() automatically compute means, confidence intervals, etc.\n",
        "You don’t have to compute stats manually before plotting.\n",
        "3. Attractive and Informative Visuals\n",
        "\n",
        "Comes with better default styles and color palettes than matplotlib.\n",
        "Makes plots more readable and publication-ready.\n",
        "4. Easy Integration with Pandas\n",
        "\n",
        "Works seamlessly with Pandas DataFrames.\n",
        "\n",
        "5. Faceting for Multi-Plot Grids\n",
        "\n",
        "Allows visualizing distributions across subsets of data using:\n",
        "sns.FacetGrid()\n",
        "sns.catplot(), sns.pairplot()\n",
        "6. Support for Complex Statistical Plots\n",
        "\n",
        "Easily make:\n",
        "Regression plots (sns.regplot(), sns.lmplot())\n",
        "Heatmaps (sns.heatmap())\n",
        "Pairwise correlations (sns.pairplot())\n"
      ],
      "metadata": {
        "id": "A8WkP5Kbl-J1"
      }
    },
    {
      "cell_type": "markdown",
      "source": [
        "6. What are the differences between NumPy arrays and Python lists?\n",
        "\n",
        "-  Homogeneity\tElements must be of the same type\tElements can be different types\n",
        "\n",
        "Speed\tMuch faster (due to C-level backend)\tSlower for large data\n",
        "\n",
        "Memory Efficiency\tUses less memory\tConsumes more memory\n",
        "\n",
        "Functionality\tSupports advanced math operations, broadcasting, linear algebra, etc.\tOnly basic operations (sum, append)\n",
        "\n",
        "Vectorized Operations\tSupports element-wise math directly\tRequires loops or list comprehensions\n",
        "\n",
        "Dimensionality\tSupports multi-dimensional arrays\tOnly 1D or nested lists\n",
        "\n",
        "Slicing/Indexing\tMore powerful and flexible\tBasic slicing\n",
        "\n",
        "Use Case\tBest for numerical computing\tBest for general-purpose storage"
      ],
      "metadata": {
        "id": "V7z304oFmVYB"
      }
    },
    {
      "cell_type": "markdown",
      "source": [
        "7. What is a heatmap, and when should it be used?\n",
        "\n",
        "-  A heatmap is a data visualization technique that uses color intensity to represent the magnitude of values in a matrix or 2D data structure.\n",
        "\n",
        "Each cell in the heatmap represents a value.\n",
        "Color gradients (like light to dark or cool to warm) help reveal patterns, trends, or outliers.\n",
        "\n",
        "Correlation Matrix\tVisualize how features relate (df.corr())\n",
        "\n",
        " Pivot Tables / Crosstabs\tSummarize and visualize frequency/count distributions\n",
        "\n",
        " Pattern Detection\tSpot high/low values, trends, or outliers in 2D data\n",
        "\n",
        " Model Evaluation (ML)\tShow confusion matrices or attention weights\n",
        "\n",
        " Time Series Analysis\tShow trends across time vs. categories (like heatmap calendars)"
      ],
      "metadata": {
        "id": "LgEhk2RZmqH3"
      }
    },
    {
      "cell_type": "markdown",
      "source": [
        "8. What does the term \"vectorized operation\" mean in Numpy?\n",
        "\n",
        "-  A vectorized operation in NumPy refers to performing element-wise operations on entire arrays without using explicit for loops. These operations are implemented internally in optimized C code, making them much faster and more efficient than manual looping in Python.\n",
        "\n"
      ],
      "metadata": {
        "id": "_ZZP4I6Fm_JU"
      }
    },
    {
      "cell_type": "markdown",
      "source": [
        "9.How does Matplotlib differ from Plotly?\n",
        "\n",
        "-  Both Matplotlib and Plotly are Python libraries used for data visualization  but they have different strengths and are used in different contexts.\n",
        "\n",
        "| Feature              | **Matplotlib**                         | **Plotly**                                    |\n",
        "| -------------------- | -------------------------------------- | --------------------------------------------- |\n",
        "|  **Type**          | Static plotting library                | Interactive plotting library                  |\n",
        "|  **Output**       | Images (PNG, PDF, SVG)                 | HTML, browser-based interactive charts        |\n",
        "|  **Interactivity** | Minimal (via toolkits like mplcursors) | Built-in zoom, hover, drag, and tooltips      |\n",
        "|  **Ease of Use**   | More control, but verbose syntax       | Higher-level API for many plot types          |\n",
        "|  **Usage Context** | Publications, scripts, reports         | Dashboards, web apps, Jupyter Notebooks       |\n",
        "|  **Customization** | Very detailed styling possible         | Also customizable, but less low-level control |\n",
        "|  **Integration**   | Native to Matplotlib stack only        | Works well with Dash for building web apps    |\n",
        "|  **Installation**  | Lightweight, few dependencies          | Heavier, needs more dependencies (browser/js) |\n",
        "\n"
      ],
      "metadata": {
        "id": "5lWyxuqunMf2"
      }
    },
    {
      "cell_type": "markdown",
      "source": [
        "10.What is the significance of hierarchical indexing in Pandas?\n",
        "\n",
        "-  Hierarchical indexing (also called MultiIndexing) in Pandas allows you to have multiple index levels (rows or columns) in a DataFrame.\n",
        "\n",
        " It enables you to work with higher-dimensional data in a 2D structure and perform powerful operations like slicing, grouping, and reshaping with ease.\n",
        "\n",
        "\n",
        "\n"
      ],
      "metadata": {
        "id": "CGs4NmENnzLl"
      }
    },
    {
      "cell_type": "markdown",
      "source": [],
      "metadata": {
        "id": "1Z8reBmvpY6e"
      }
    },
    {
      "cell_type": "markdown",
      "source": [
        "11. What is the role of Seaborn's pairplot) function?\n",
        "\n",
        "-  The pairplot() function in Seaborn is used to quickly visualize pairwise relationships in a dataset — especially useful during Exploratory Data Analysis (EDA).\n",
        "\n",
        "Plots all combinations of numeric columns in a DataFrame using:\n",
        "\n",
        "Scatter plots (off-diagonal)\n",
        "\n",
        "Histograms or KDE plots (diagonal)\n",
        "\n",
        "Optionally adds color grouping (hue) to distinguish categories"
      ],
      "metadata": {
        "id": "4tM66olWoFwZ"
      }
    },
    {
      "cell_type": "markdown",
      "source": [
        "12. What is the purpose of the describe function in Pandas?\n",
        "\n",
        "-  The describe() function in Pandas provides summary statistics of the numerical (and optionally categorical) columns in a DataFrame. It's a key tool for exploratory data analysis (EDA).\n",
        "\n",
        "| Use Case                   | Benefit                                 |\n",
        "| -------------------------- | --------------------------------------- |\n",
        "|  **Initial data check**  | Quickly understand distribution & range |\n",
        "|  **Data cleaning**       | Spot missing or extreme values          |\n",
        "|  **Outlier detection**   | Compare mean, min, max, std             |\n",
        "|  **Feature engineering** | Understand scales for normalization     |\n"
      ],
      "metadata": {
        "id": "i-mEgNI_oSah"
      }
    },
    {
      "cell_type": "markdown",
      "source": [
        "13. Why is handling missing data important in Pandas?\n",
        "\n",
        "-  Handling missing data is crucial in Pandas because unhandled missing values can lead to:\n",
        "\n",
        "Incorrect analysis\n",
        "\n",
        "Broken models\n",
        "\n",
        "Misleading visualizations\n",
        "\n",
        "Handling missing data in Pandas is critical for clean, accurate, and reliable data analysis. If not addressed properly, it can distort results and ruin machine learning models."
      ],
      "metadata": {
        "id": "H9NfkC7AoqHM"
      }
    },
    {
      "cell_type": "markdown",
      "source": [
        "14. What are the benefits of using Plotly for data visualization?\n",
        "\n",
        "-  1. Interactivity Out of the Box\n",
        "\n",
        "Hover tooltips, zoom, pan, and click events are built in.\n",
        "Users can explore data directly in the browser without writing JavaScript.\n",
        "2. Beautiful and Polished Visuals\n",
        "\n",
        "Aesthetically pleasing default themes.\n",
        "Support for rich chart types and smooth animations.\n",
        "3. Wide Variety of Chart Types\n",
        "\n",
        "Standard charts: bar, line, pie, scatter\n",
        "Advanced charts: 3D plots, maps, heatmaps, financial charts, treemaps, etc.\n",
        "4. Ease of Use\n",
        "\n",
        "Simple syntax with plotly.express\n",
        "Integrates easily with Pandas DataFrames\n",
        "5. Great for Dashboards\n",
        "\n",
        "Seamlessly integrates with Plotly Dash to build interactive web apps using just Python — no need for HTML/JS/CSS.\n",
        "6. Export Options\n",
        "\n",
        "Export to static images, HTML, or embed in Jupyter Notebooks or web pages.\n",
        "7. Cross-Platform Support\n",
        "\n",
        "Works in Jupyter, VS Code, web browsers, and dashboards"
      ],
      "metadata": {
        "id": "YG42XmPcpDEC"
      }
    },
    {
      "cell_type": "markdown",
      "source": [
        "15. How does NumPy handle multidimensional arrays?\n",
        "\n",
        "-  NumPy handles multidimensional arrays using its core data structure: the ndarray (n-dimensional array). This structure allows NumPy to efficiently store and operate on arrays of any number of dimensions — not just 1D or 2D, but 3D, 4D, etc.\n",
        "\n",
        "1. Multidimensional Support (n-Dimensional Arrays)\n",
        "\n",
        "A 1D array is a simple list: [1, 2, 3]\n",
        "\n",
        "A 2D array is like a matrix: [[1, 2], [3, 4]]\n",
        "\n",
        "A 3D array is like a cube: [[[1, 2], [3, 4]], [[5, 6], [7, 8]]]\n",
        "\n",
        "NumPy can work with all of these using the same efficient ndarray object.\n",
        "\n",
        "Operations on Multidimensional Arrays\n",
        "\n",
        "Broadcasting\n",
        "\n",
        "Slicing and reshaping: reshape(), transpose()\n",
        "\n",
        "Mathematical operations: element-wise across dimensions\n",
        "\n",
        "Axis-based functions: sum(axis=0), mean(axis=1)\n",
        "\n",
        "\n"
      ],
      "metadata": {
        "id": "MgK-2lF3paiH"
      }
    },
    {
      "cell_type": "markdown",
      "source": [
        "16. What is the role of Bokeh in data visualization?\n",
        "\n",
        "Bokeh is a powerful Python library for creating interactive, web-ready visualizations. Its main role is to enable the building of dynamic, browser-based plots and dashboards — all in pure Python.\n",
        "\n",
        "Key Roles of Bokeh:\n",
        "\n",
        "1. Interactive Visualizations\n",
        "\n",
        "Bokeh plots support zooming, hovering, panning, tooltips, and click events by default.\n",
        "Ideal for exploring data in detail directly from the browser.\n",
        "2. Web Integration\n",
        "\n",
        "Plots render in HTML/JavaScript, making them embeddable in websites and web apps.\n",
        "Bokeh can create full interactive dashboards using its server framework.\n",
        "3. Python-Only Web Apps\n",
        "\n",
        "With Bokeh Server, you can build web apps without writing any HTML, CSS, or JavaScript.\n",
        "Great for prototyping data tools and internal dashboards.\n",
        "4. Customizable and Extensible\n",
        "\n",
        "Supports complex layouts, widgets (like sliders, dropdowns), and linking between plots.\n",
        "Can update plots in real time with streaming data.\n"
      ],
      "metadata": {
        "id": "e7B5zejJpx3k"
      }
    },
    {
      "cell_type": "markdown",
      "source": [
        "17. Explain the difference between apply) and map) in Pandas.\n",
        "\n",
        "-  map(): For Simple Element-wise Operations\n",
        "\n",
        "map() is used only with Series, meaning you can apply it to a single column or row of a DataFrame (not the entire DataFrame).\n",
        "\n",
        " It’s ideal for simple, element-wise transformations like replacing values or applying a basic function to each value.\n",
        "\n",
        "  You can pass in a function, dictionary, or Series to perform the mapping.\n",
        "\n",
        "  -  apply(): For More Complex or Row/Column-Wise Operations\n",
        "apply() works with both Series and DataFrames.\n",
        "\n",
        " When used on a Series, it behaves like map() but is slightly more flexible.\n",
        "\n",
        "  When used on a DataFrame, it can apply a function row-wise (axis=1) or column-wise (axis=0).\n",
        "  \n",
        "   This makes it powerful for custom logic, aggregations, or transformations that require access to multiple values at once.\n",
        "\n",
        "\n",
        "\n"
      ],
      "metadata": {
        "id": "7AUQaDNDqEcb"
      }
    },
    {
      "cell_type": "markdown",
      "source": [
        "18. What are some advanced features of NumPy?\n",
        "\n",
        "-  1. Broadcasting\n",
        "Allows NumPy to perform arithmetic operations on arrays of different shapes without explicit looping or reshaping. This saves memory and improves speed.\n",
        "\n",
        "2. Vectorized Operations\n",
        "Operations are performed on entire arrays without Python loops, leading to faster computation (internally written in C).\n",
        "\n",
        "3. Masked Arrays\n",
        "Used to ignore or hide certain elements in arrays during computations.\n",
        "\n",
        "4. Structured Arrays\n",
        "Let you create arrays with heterogeneous data types (like rows in a database or table).\n",
        "\n",
        "5. Memory Mapping of Large Arrays\n",
        "Allows you to read huge binary files without loading the entire file into memory, using np.memmap.\n",
        "\n",
        "\n",
        " 6. Linear Algebra Functions\n",
        "NumPy includes a full suite of linear algebra operations such as dot product, matrix inversion, eigenvalues, etc.\n",
        "\n",
        " 7. Fourier Transforms and FFT\n",
        "Built-in support for fast Fourier transforms via np.fft, useful in signal processing and data compression.\n",
        "\n",
        " 8. Random Number Generation\n",
        "numpy.random provides powerful random sampling, probability distributions, and reproducibility via random seeds.\n",
        "\n",
        " 9. Advanced Indexing & Slicing\n",
        "Supports boolean masking, fancy indexing, and multi-dimensional slicing.\n",
        "\n",
        " 10. Integration with C/C++ and Fortran\n",
        "Supports low-level memory access, allowing integration with external libraries and high-performance code.\n",
        "\n"
      ],
      "metadata": {
        "id": "wJaxw31-q-Ox"
      }
    },
    {
      "cell_type": "markdown",
      "source": [
        "19. How does Pandas simplify time series analysis?\n",
        "\n",
        "-  Pandas is widely used for time series analysis because it provides a powerful, intuitive, and efficient framework for working with date and time data.\n",
        "\n",
        " Here's how it simplifies the process\n",
        "\n",
        "1. DateTime Indexing\n",
        "Pandas allows you to use DatetimeIndex to label rows by date and time. This enables intuitive slicing, filtering, and alignment based on time.\n",
        "\n",
        "2. Resampling\n",
        "With .resample(), you can easily change the frequency of your time series — for example, converting daily data to monthly averages or hourly data to daily sums.\n",
        "\n",
        "monthly_avg = df.resample('M').mean()\n",
        " 3. Date Ranges and Frequency Generation\n",
        "Pandas simplifies generating time-based sequences using date_range(), which is useful for indexing and simulations.\n",
        "\n",
        "pd.date_range(start='2023-01-01', periods=10, freq='D')\n",
        " 4. Time-Based Filtering & Slicing\n",
        "You can query time series data using natural-language-like syntax for dates.\n",
        "\n",
        "5. Handling Missing Time Points\n",
        "Pandas automatically handles gaps in time series and allows interpolation, filling (fillna()), or forward/backward filling.\n",
        "\n",
        "6. Built-in Rolling and Expanding Windows\n",
        "For moving averages, volatility calculations, etc., Pandas provides .rolling() and .expanding() methods.\n",
        "\n",
        "7. Time Zone Support\n",
        "Pandas handles timezone-aware datetime objects with easy conversion between time zones.\n",
        "\n"
      ],
      "metadata": {
        "id": "TUviJgY3rium"
      }
    },
    {
      "cell_type": "markdown",
      "source": [
        "20. What is the role of a pivot table in Pandas?\n",
        "\n",
        "-  A pivot table in Pandas is a powerful tool used to summarize, group, and reorganize data for better analysis — especially useful when working with large datasets.\n",
        "\n",
        "- The main role of a pivot table is to transform a long-form (tidy) DataFrame into a wide-form summary. It allows you to aggregate data across multiple dimensions, such as rows and columns, using functions like sum(), mean(), count(), etc.\n",
        "\n",
        "Using pd.pivot_table(), you can specify:\n",
        "\n",
        "index – the row groupings\n",
        "\n",
        "columns – the column groupings\n",
        "\n",
        "values – the data you want to aggregate\n",
        "\n",
        "aggfunc – the function used to summarize (default is mean)\n",
        "\n",
        "\n"
      ],
      "metadata": {
        "id": "oYYc2qoDsGqK"
      }
    },
    {
      "cell_type": "markdown",
      "source": [
        "21. Why is NumPy's array slicing faster than Python's list slicing?\n",
        "\n",
        "-  NumPy's array slicing is significantly faster than Python's list slicing due to a combination of memory layout, low-level optimizations, and uniform data types.\n",
        "\n",
        "1. Contiguous Memory Allocation\n",
        "\n",
        "NumPy arrays are stored in contiguous blocks of memory (just like in C), allowing efficient access and manipulation. In contrast, Python lists store references to objects, which are scattered across memory. This makes NumPy's slicing more cache-friendly and faster.\n",
        "\n",
        "2. Homogeneous Data Types\n",
        "\n",
        "All elements in a NumPy array have the same data type, which allows vectorized operations and slicing to be executed with compiled C loops under the hood. Python lists can contain mixed types, which slows down slicing because each element must be checked and handled individually.\n",
        "\n",
        "3. No Data Copy (View Instead of Copy)\n",
        "\n",
        "Slicing a NumPy array returns a view (not a copy) of the original data whenever possible, meaning it avoids unnecessary memory allocation. Python list slicing always returns a new list, which involves copying all the elements — a more time- and memory-intensive process.\n",
        "\n",
        "4. Optimized Backend (C/Fortran)\n",
        "\n",
        "NumPy operations are backed by highly optimized C and Fortran libraries, making low-level operations like slicing extremely fast compared to Python’s interpreted list operations."
      ],
      "metadata": {
        "id": "IiSHAGlotj-a"
      }
    },
    {
      "cell_type": "markdown",
      "source": [
        "22. What are some common use cases for Seaborn?\n",
        "\n",
        "-  1. Exploratory Data Analysis (EDA)\n",
        "\n",
        "Seaborn is perfect for EDA because it allows quick visual inspection of relationships, distributions, and patterns in data with just a few lines of code.\n",
        "\n",
        "\n",
        " 2. Visualizing Distributions\n",
        "\n",
        "You can easily explore the shape, central tendency, and spread of data using plots like:\n",
        "\n",
        " 3. Analyzing Categorical Data\n",
        "\n",
        "Seaborn makes it easy to compare categorical variables using:\n",
        "\n",
        " 4. Relationship Analysis\n",
        "\n",
        "Visualize pairwise relationships between variables using:\n",
        "\n",
        "scatterplot()\n",
        "\n",
        "lineplot() (especially for time series)\n",
        "\n",
        "regplot() and lmplot() (for regression analysis)\n",
        "\n",
        "sns.lmplot(x='height', y='weight', data=df)\n",
        "\n",
        " 5. Correlation and Heatmaps\n",
        "\n",
        "Seaborn’s heatmap() is ideal for displaying correlation matrices or categorical comparisons in tabular form.\n",
        "\n",
        " 6. Multi-Plot Grids\n",
        "\n",
        "Functions like FacetGrid and pairplot allow you to create multiple subplots conditioned on variable levels (e.g., one plot for each category).\n",
        "\n"
      ],
      "metadata": {
        "id": "MeuL35iBt3NJ"
      }
    },
    {
      "cell_type": "markdown",
      "source": [
        "#Data tool kit practical questions."
      ],
      "metadata": {
        "id": "OylcfMWxueyl"
      }
    },
    {
      "cell_type": "code",
      "source": [
        "1. How do you create a 2D NumPy array and calculate the sum of each row?\n",
        "\n",
        "\n",
        "import numpy as np\n",
        "\n",
        "# Step 1: Create a 2D NumPy array (e.g., 3x3)\n",
        "arr = np.array([[1, 2, 3],\n",
        "                [4, 5, 6],\n",
        "                [7, 8, 9]])\n",
        "\n",
        "# Step 2: Calculate the sum of each row using axis=1\n",
        "row_sums = np.sum(arr, axis=1)\n",
        "\n",
        "print(\"Original Array:\\n\", arr)\n",
        "print(\"Sum of each row:\", row_sums)\n"
      ],
      "metadata": {
        "colab": {
          "base_uri": "https://localhost:8080/"
        },
        "id": "Fy4YuVqtulbY",
        "outputId": "b7ba90dd-3881-4460-b354-41caee7c1e3c"
      },
      "execution_count": 1,
      "outputs": [
        {
          "output_type": "stream",
          "name": "stdout",
          "text": [
            "Original Array:\n",
            " [[1 2 3]\n",
            " [4 5 6]\n",
            " [7 8 9]]\n",
            "Sum of each row: [ 6 15 24]\n"
          ]
        }
      ]
    },
    {
      "cell_type": "code",
      "source": [
        "2.Write a Pandas script to find the mean of a specific column in a DataFrame.\n",
        "\n",
        "import pandas as pd\n",
        "\n",
        "# Sample data\n",
        "data = {\n",
        "    'Name': ['Alice', 'Bob', 'Charlie', 'David'],\n",
        "    'Age': [25, 30, 35, 40],\n",
        "    'Salary': [50000, 60000, 55000, 65000]\n",
        "}\n",
        "\n",
        "# Create DataFrame\n",
        "df = pd.DataFrame(data)\n",
        "\n",
        "# Calculate the mean of the 'Salary' column\n",
        "mean_salary = df['Salary'].mean()\n",
        "\n",
        "print(\"Mean Salary:\", mean_salary)\n"
      ],
      "metadata": {
        "colab": {
          "base_uri": "https://localhost:8080/"
        },
        "id": "DQkeGCzdu4gj",
        "outputId": "41ddf619-1411-421c-bede-a858a2b18320"
      },
      "execution_count": 2,
      "outputs": [
        {
          "output_type": "stream",
          "name": "stdout",
          "text": [
            "Mean Salary: 57500.0\n"
          ]
        }
      ]
    },
    {
      "cell_type": "code",
      "source": [
        "3. Create a scatter plot using Matplotlib.\n",
        "\n",
        "\n",
        "import matplotlib.pyplot as plt\n",
        "\n",
        "# Sample data\n",
        "x = [1, 2, 3, 4, 5]\n",
        "y = [5, 4, 3, 2, 1]\n",
        "\n",
        "# Create scatter plot\n",
        "plt.scatter(x, y, color='blue', marker='o', label='Data Points')\n",
        "\n",
        "# Add labels and title\n",
        "plt.xlabel('X-axis')\n",
        "plt.ylabel('Y-axis')\n",
        "plt.title('Simple Scatter Plot')\n",
        "plt.legend()\n",
        "\n",
        "# Display the plot\n",
        "plt.show()\n"
      ],
      "metadata": {
        "colab": {
          "base_uri": "https://localhost:8080/",
          "height": 472
        },
        "id": "mOc6lbUevCFF",
        "outputId": "88572146-c8da-40d2-887a-0946a4d16a9f"
      },
      "execution_count": 3,
      "outputs": [
        {
          "output_type": "display_data",
          "data": {
            "text/plain": [
              "<Figure size 640x480 with 1 Axes>"
            ],
            "image/png": "[encoded data removed]"
          },
          "metadata": {}
        }
      ]
    },
    {
      "cell_type": "code",
      "source": [
        "4.How do you calculate the correlation matrix using Seaborn and visualize it with a heatmap?\n",
        "\n",
        "\n",
        "import pandas as pd\n",
        "import seaborn as sns\n",
        "import matplotlib.pyplot as plt\n",
        "\n",
        "# Sample dataset\n",
        "data = {\n",
        "    'Math': [90, 80, 70, 60, 50],\n",
        "    'Science': [88, 76, 66, 54, 49],\n",
        "    'English': [70, 75, 80, 85, 90]\n",
        "}\n",
        "\n",
        "# Create DataFrame\n",
        "df = pd.DataFrame(data)\n",
        "\n",
        "# Step 1: Calculate correlation matrix\n",
        "corr_matrix = df.corr()\n",
        "\n",
        "# Step 2: Create heatmap\n",
        "sns.heatmap(corr_matrix, annot=True, cmap='coolwarm', linewidths=0.5)\n",
        "\n",
        "# Customize plot\n",
        "plt.title('Correlation Matrix Heatmap')\n",
        "plt.show()\n"
      ],
      "metadata": {
        "colab": {
          "base_uri": "https://localhost:8080/",
          "height": 452
        },
        "id": "ZFp8nOWcvK8j",
        "outputId": "f78328c8-1497-49d4-e43d-fc3d7b87309d"
      },
      "execution_count": 4,
      "outputs": [
        {
          "output_type": "display_data",
          "data": {
            "text/plain": [
              "<Figure size 640x480 with 2 Axes>"
            ],
            "image/png": "[encoded data removed]"
          },
          "metadata": {}
        }
      ]
    },
    {
      "cell_type": "code",
      "source": [
        "5.Generate a bar plot using Plotly.\n",
        "\n",
        "\n",
        "import plotly.express as px\n",
        "\n",
        "# Sample data\n",
        "data = {\n",
        "    'Fruit': ['Apples', 'Bananas', 'Oranges', 'Grapes'],\n",
        "    'Quantity': [10, 15, 7, 12]\n",
        "}\n",
        "\n",
        "# Create bar plot\n",
        "fig = px.bar(data, x='Fruit', y='Quantity', title='Fruit Quantity Bar Plot')\n",
        "\n",
        "# Show the plot\n",
        "fig.show()\n"
      ],
      "metadata": {
        "colab": {
          "base_uri": "https://localhost:8080/",
          "height": 542
        },
        "id": "GwOW3oECvUqG",
        "outputId": "85fda145-9cc7-4498-cf3d-acb0f0643d6d"
      },
      "execution_count": 5,
      "outputs": [
        {
          "output_type": "display_data",
          "data": {
            "text/html": [
              "<html>\n",
              "<head><meta charset=\"utf-8\" /></head>\n",
              "<body>\n",
              "    <div>            <script src=\"https://cdnjs.cloudflare.com/ajax/libs/mathjax/2.7.5/MathJax.js?config=TeX-AMS-MML_SVG\"></script><script type=\"text/javascript\">if (window.MathJax && window.MathJax.Hub && window.MathJax.Hub.Config) {window.MathJax.Hub.Config({SVG: {font: \"STIX-Web\"}});}</script>                <script type=\"text/javascript\">window.PlotlyConfig = {MathJaxConfig: 'local'};</script>\n",
              "        <script charset=\"utf-8\" src=\"https://cdn.plot.ly/plotly-2.35.2.min.js\"></script>                <div id=\"529a26f2-d591-4e6c-8b18-7d0a955d9a92\" class=\"plotly-graph-div\" style=\"height:525px; width:100%;\"></div>            <script type=\"text/javascript\">                                    window.PLOTLYENV=window.PLOTLYENV || {};                                    if (document.getElementById(\"529a26f2-d591-4e6c-8b18-7d0a955d9a92\")) {                    Plotly.newPlot(                        \"529a26f2-d591-4e6c-8b18-7d0a955d9a92\",                        [{\"alignmentgroup\":\"True\",\"hovertemplate\":\"Fruit=%{x}\\u003cbr\\u003eQuantity=%{y}\\u003cextra\\u003e\\u003c\\u002fextra\\u003e\",\"legendgroup\":\"\",\"marker\":{\"color\":\"#636efa\",\"pattern\":{\"shape\":\"\"}},\"name\":\"\",\"offsetgroup\":\"\",\"orientation\":\"v\",\"showlegend\":false,\"textposition\":\"auto\",\"x\":[\"Apples\",\"Bananas\",\"Oranges\",\"Grapes\"],\"xaxis\":\"x\",\"y\":[10,15,7,12],\"yaxis\":\"y\",\"type\":\"bar\"}],                        {\"template\":{\"data\":{\"histogram2dcontour\":[{\"type\":\"histogram2dcontour\",\"colorbar\":{\"outlinewidth\":0,\"ticks\":\"\"},\"colorscale\":[[0.0,\"#0d0887\"],[0.1111111111111111,\"#46039f\"],[0.2222222222222222,\"#7201a8\"],[0.3333333333333333,\"#9c179e\"],[0.4444444444444444,\"#bd3786\"],[0.5555555555555556,\"#d8576b\"],[0.6666666666666666,\"#ed7953\"],[0.7777777777777778,\"#fb9f3a\"],[0.8888888888888888,\"#fdca26\"],[1.0,\"#f0f921\"]]}],\"choropleth\":[{\"type\":\"choropleth\",\"colorbar\":{\"outlinewidth\":0,\"ticks\":\"\"}}],\"histogram2d\":[{\"type\":\"histogram2d\",\"colorbar\":{\"outlinewidth\":0,\"ticks\":\"\"},\"colorscale\":[[0.0,\"#0d0887\"],[0.1111111111111111,\"#46039f\"],[0.2222222222222222,\"#7201a8\"],[0.3333333333333333,\"#9c179e\"],[0.4444444444444444,\"#bd3786\"],[0.5555555555555556,\"#d8576b\"],[0.6666666666666666,\"#ed7953\"],[0.7777777777777778,\"#fb9f3a\"],[0.8888888888888888,\"#fdca26\"],[1.0,\"#f0f921\"]]}],\"heatmap\":[{\"type\":\"heatmap\",\"colorbar\":{\"outlinewidth\":0,\"ticks\":\"\"},\"colorscale\":[[0.0,\"#0d0887\"],[0.1111111111111111,\"#46039f\"],[0.2222222222222222,\"#7201a8\"],[0.3333333333333333,\"#9c179e\"],[0.4444444444444444,\"#bd3786\"],[0.5555555555555556,\"#d8576b\"],[0.6666666666666666,\"#ed7953\"],[0.7777777777777778,\"#fb9f3a\"],[0.8888888888888888,\"#fdca26\"],[1.0,\"#f0f921\"]]}],\"heatmapgl\":[{\"type\":\"heatmapgl\",\"colorbar\":{\"outlinewidth\":0,\"ticks\":\"\"},\"colorscale\":[[0.0,\"#0d0887\"],[0.1111111111111111,\"#46039f\"],[0.2222222222222222,\"#7201a8\"],[0.3333333333333333,\"#9c179e\"],[0.4444444444444444,\"#bd3786\"],[0.5555555555555556,\"#d8576b\"],[0.6666666666666666,\"#ed7953\"],[0.7777777777777778,\"#fb9f3a\"],[0.8888888888888888,\"#fdca26\"],[1.0,\"#f0f921\"]]}],\"contourcarpet\":[{\"type\":\"contourcarpet\",\"colorbar\":{\"outlinewidth\":0,\"ticks\":\"\"}}],\"contour\":[{\"type\":\"contour\",\"colorbar\":{\"outlinewidth\":0,\"ticks\":\"\"},\"colorscale\":[[0.0,\"#0d0887\"],[0.1111111111111111,\"#46039f\"],[0.2222222222222222,\"#7201a8\"],[0.3333333333333333,\"#9c179e\"],[0.4444444444444444,\"#bd3786\"],[0.5555555555555556,\"#d8576b\"],[0.6666666666666666,\"#ed7953\"],[0.7777777777777778,\"#fb9f3a\"],[0.8888888888888888,\"#fdca26\"],[1.0,\"#f0f921\"]]}],\"surface\":[{\"type\":\"surface\",\"colorbar\":{\"outlinewidth\":0,\"ticks\":\"\"},\"colorscale\":[[0.0,\"#0d0887\"],[0.1111111111111111,\"#46039f\"],[0.2222222222222222,\"#7201a8\"],[0.3333333333333333,\"#9c179e\"],[0.4444444444444444,\"#bd3786\"],[0.5555555555555556,\"#d8576b\"],[0.6666666666666666,\"#ed7953\"],[0.7777777777777778,\"#fb9f3a\"],[0.8888888888888888,\"#fdca26\"],[1.0,\"#f0f921\"]]}],\"mesh3d\":[{\"type\":\"mesh3d\",\"colorbar\":{\"outlinewidth\":0,\"ticks\":\"\"}}],\"scatter\":[{\"fillpattern\":{\"fillmode\":\"overlay\",\"size\":10,\"solidity\":0.2},\"type\":\"scatter\"}],\"parcoords\":[{\"type\":\"parcoords\",\"line\":{\"colorbar\":{\"outlinewidth\":0,\"ticks\":\"\"}}}],\"scatterpolargl\":[{\"type\":\"scatterpolargl\",\"marker\":{\"colorbar\":{\"outlinewidth\":0,\"ticks\":\"\"}}}],\"bar\":[{\"error_x\":{\"color\":\"#2a3f5f\"},\"error_y\":{\"color\":\"#2a3f5f\"},\"marker\":{\"line\":{\"color\":\"#E5ECF6\",\"width\":0.5},\"pattern\":{\"fillmode\":\"overlay\",\"size\":10,\"solidity\":0.2}},\"type\":\"bar\"}],\"scattergeo\":[{\"type\":\"scattergeo\",\"marker\":{\"colorbar\":{\"outlinewidth\":0,\"ticks\":\"\"}}}],\"scatterpolar\":[{\"type\":\"scatterpolar\",\"marker\":{\"colorbar\":{\"outlinewidth\":0,\"ticks\":\"\"}}}],\"histogram\":[{\"marker\":{\"pattern\":{\"fillmode\":\"overlay\",\"size\":10,\"solidity\":0.2}},\"type\":\"histogram\"}],\"scattergl\":[{\"type\":\"scattergl\",\"marker\":{\"colorbar\":{\"outlinewidth\":0,\"ticks\":\"\"}}}],\"scatter3d\":[{\"type\":\"scatter3d\",\"line\":{\"colorbar\":{\"outlinewidth\":0,\"ticks\":\"\"}},\"marker\":{\"colorbar\":{\"outlinewidth\":0,\"ticks\":\"\"}}}],\"scattermapbox\":[{\"type\":\"scattermapbox\",\"marker\":{\"colorbar\":{\"outlinewidth\":0,\"ticks\":\"\"}}}],\"scatterternary\":[{\"type\":\"scatterternary\",\"marker\":{\"colorbar\":{\"outlinewidth\":0,\"ticks\":\"\"}}}],\"scattercarpet\":[{\"type\":\"scattercarpet\",\"marker\":{\"colorbar\":{\"outlinewidth\":0,\"ticks\":\"\"}}}],\"carpet\":[{\"aaxis\":{\"endlinecolor\":\"#2a3f5f\",\"gridcolor\":\"white\",\"linecolor\":\"white\",\"minorgridcolor\":\"white\",\"startlinecolor\":\"#2a3f5f\"},\"baxis\":{\"endlinecolor\":\"#2a3f5f\",\"gridcolor\":\"white\",\"linecolor\":\"white\",\"minorgridcolor\":\"white\",\"startlinecolor\":\"#2a3f5f\"},\"type\":\"carpet\"}],\"table\":[{\"cells\":{\"fill\":{\"color\":\"#EBF0F8\"},\"line\":{\"color\":\"white\"}},\"header\":{\"fill\":{\"color\":\"#C8D4E3\"},\"line\":{\"color\":\"white\"}},\"type\":\"table\"}],\"barpolar\":[{\"marker\":{\"line\":{\"color\":\"#E5ECF6\",\"width\":0.5},\"pattern\":{\"fillmode\":\"overlay\",\"size\":10,\"solidity\":0.2}},\"type\":\"barpolar\"}],\"pie\":[{\"automargin\":true,\"type\":\"pie\"}]},\"layout\":{\"autotypenumbers\":\"strict\",\"colorway\":[\"#636efa\",\"#EF553B\",\"#00cc96\",\"#ab63fa\",\"#FFA15A\",\"#19d3f3\",\"#FF6692\",\"#B6E880\",\"#FF97FF\",\"#FECB52\"],\"font\":{\"color\":\"#2a3f5f\"},\"hovermode\":\"closest\",\"hoverlabel\":{\"align\":\"left\"},\"paper_bgcolor\":\"white\",\"plot_bgcolor\":\"#E5ECF6\",\"polar\":{\"bgcolor\":\"#E5ECF6\",\"angularaxis\":{\"gridcolor\":\"white\",\"linecolor\":\"white\",\"ticks\":\"\"},\"radialaxis\":{\"gridcolor\":\"white\",\"linecolor\":\"white\",\"ticks\":\"\"}},\"ternary\":{\"bgcolor\":\"#E5ECF6\",\"aaxis\":{\"gridcolor\":\"white\",\"linecolor\":\"white\",\"ticks\":\"\"},\"baxis\":{\"gridcolor\":\"white\",\"linecolor\":\"white\",\"ticks\":\"\"},\"caxis\":{\"gridcolor\":\"white\",\"linecolor\":\"white\",\"ticks\":\"\"}},\"coloraxis\":{\"colorbar\":{\"outlinewidth\":0,\"ticks\":\"\"}},\"colorscale\":{\"sequential\":[[0.0,\"#0d0887\"],[0.1111111111111111,\"#46039f\"],[0.2222222222222222,\"#7201a8\"],[0.3333333333333333,\"#9c179e\"],[0.4444444444444444,\"#bd3786\"],[0.5555555555555556,\"#d8576b\"],[0.6666666666666666,\"#ed7953\"],[0.7777777777777778,\"#fb9f3a\"],[0.8888888888888888,\"#fdca26\"],[1.0,\"#f0f921\"]],\"sequentialminus\":[[0.0,\"#0d0887\"],[0.1111111111111111,\"#46039f\"],[0.2222222222222222,\"#7201a8\"],[0.3333333333333333,\"#9c179e\"],[0.4444444444444444,\"#bd3786\"],[0.5555555555555556,\"#d8576b\"],[0.6666666666666666,\"#ed7953\"],[0.7777777777777778,\"#fb9f3a\"],[0.8888888888888888,\"#fdca26\"],[1.0,\"#f0f921\"]],\"diverging\":[[0,\"#8e0152\"],[0.1,\"#c51b7d\"],[0.2,\"#de77ae\"],[0.3,\"#f1b6da\"],[0.4,\"#fde0ef\"],[0.5,\"#f7f7f7\"],[0.6,\"#e6f5d0\"],[0.7,\"#b8e186\"],[0.8,\"#7fbc41\"],[0.9,\"#4d9221\"],[1,\"#276419\"]]},\"xaxis\":{\"gridcolor\":\"white\",\"linecolor\":\"white\",\"ticks\":\"\",\"title\":{\"standoff\":15},\"zerolinecolor\":\"white\",\"automargin\":true,\"zerolinewidth\":2},\"yaxis\":{\"gridcolor\":\"white\",\"linecolor\":\"white\",\"ticks\":\"\",\"title\":{\"standoff\":15},\"zerolinecolor\":\"white\",\"automargin\":true,\"zerolinewidth\":2},\"scene\":{\"xaxis\":{\"backgroundcolor\":\"#E5ECF6\",\"gridcolor\":\"white\",\"linecolor\":\"white\",\"showbackground\":true,\"ticks\":\"\",\"zerolinecolor\":\"white\",\"gridwidth\":2},\"yaxis\":{\"backgroundcolor\":\"#E5ECF6\",\"gridcolor\":\"white\",\"linecolor\":\"white\",\"showbackground\":true,\"ticks\":\"\",\"zerolinecolor\":\"white\",\"gridwidth\":2},\"zaxis\":{\"backgroundcolor\":\"#E5ECF6\",\"gridcolor\":\"white\",\"linecolor\":\"white\",\"showbackground\":true,\"ticks\":\"\",\"zerolinecolor\":\"white\",\"gridwidth\":2}},\"shapedefaults\":{\"line\":{\"color\":\"#2a3f5f\"}},\"annotationdefaults\":{\"arrowcolor\":\"#2a3f5f\",\"arrowhead\":0,\"arrowwidth\":1},\"geo\":{\"bgcolor\":\"white\",\"landcolor\":\"#E5ECF6\",\"subunitcolor\":\"white\",\"showland\":true,\"showlakes\":true,\"lakecolor\":\"white\"},\"title\":{\"x\":0.05},\"mapbox\":{\"style\":\"light\"}}},\"xaxis\":{\"anchor\":\"y\",\"domain\":[0.0,1.0],\"title\":{\"text\":\"Fruit\"}},\"yaxis\":{\"anchor\":\"x\",\"domain\":[0.0,1.0],\"title\":{\"text\":\"Quantity\"}},\"legend\":{\"tracegroupgap\":0},\"title\":{\"text\":\"Fruit Quantity Bar Plot\"},\"barmode\":\"relative\"},                        {\"responsive\": true}                    ).then(function(){\n",
              "                            \n",
              "var gd = document.getElementById('529a26f2-d591-4e6c-8b18-7d0a955d9a92');\n",
              "var x = new MutationObserver(function (mutations, observer) {{\n",
              "        var display = window.getComputedStyle(gd).display;\n",
              "        if (!display || display === 'none') {{\n",
              "            console.log([gd, 'removed!']);\n",
              "            Plotly.purge(gd);\n",
              "            observer.disconnect();\n",
              "        }}\n",
              "}});\n",
              "\n",
              "// Listen for the removal of the full notebook cells\n",
              "var notebookContainer = gd.closest('#notebook-container');\n",
              "if (notebookContainer) {{\n",
              "    x.observe(notebookContainer, {childList: true});\n",
              "}}\n",
              "\n",
              "// Listen for the clearing of the current output cell\n",
              "var outputEl = gd.closest('.output');\n",
              "if (outputEl) {{\n",
              "    x.observe(outputEl, {childList: true});\n",
              "}}\n",
              "\n",
              "                        })                };                            </script>        </div>\n",
              "</body>\n",
              "</html>"
            ]
          },
          "metadata": {}
        }
      ]
    },
    {
      "cell_type": "code",
      "source": [
        "6. Create a DataFrame and add a new column based on an existing column.\n",
        "\n",
        "\n",
        "import pandas as pd\n",
        "\n",
        "# Step 1: Create a sample DataFrame\n",
        "data = {\n",
        "    'Name': ['Alice', 'Bob', 'Charlie'],\n",
        "    'Salary': [50000, 60000, 70000]\n",
        "}\n",
        "\n",
        "df = pd.DataFrame(data)\n",
        "\n",
        "# Step 2: Add a new column 'Tax' as 10% of 'Salary'\n",
        "df['Tax'] = df['Salary'] * 0.10\n",
        "\n",
        "# Step 3: Add another column 'Net Salary' after tax\n",
        "df['Net Salary'] = df['Salary'] - df['Tax']\n",
        "\n",
        "# Display the DataFrame\n",
        "print(df)\n"
      ],
      "metadata": {
        "colab": {
          "base_uri": "https://localhost:8080/"
        },
        "id": "BAlR2M4_vd6k",
        "outputId": "a030fb64-772b-4a4d-cbdc-041215cd8e2a"
      },
      "execution_count": 6,
      "outputs": [
        {
          "output_type": "stream",
          "name": "stdout",
          "text": [
            "      Name  Salary     Tax  Net Salary\n",
            "0    Alice   50000  5000.0     45000.0\n",
            "1      Bob   60000  6000.0     54000.0\n",
            "2  Charlie   70000  7000.0     63000.0\n"
          ]
        }
      ]
    },
    {
      "cell_type": "code",
      "source": [
        "7. Write a program to perform element-wise multiplication of two Numpy arrays.\n",
        "\n",
        "import numpy as np\n",
        "\n",
        "# Define two NumPy arrays of the same shape\n",
        "a = np.array([1, 2, 3, 4])\n",
        "b = np.array([10, 20, 30, 40])\n",
        "\n",
        "# Perform element-wise multiplication\n",
        "result = a * b  # or use np.multiply(a, b)\n",
        "\n",
        "# Display the result\n",
        "print(\"Array A:\", a)\n",
        "print(\"Array B:\", b)\n",
        "print(\"Element-wise Multiplication:\", result)\n",
        "\n",
        "\n"
      ],
      "metadata": {
        "colab": {
          "base_uri": "https://localhost:8080/"
        },
        "id": "SLVLjifevnaZ",
        "outputId": "92e8ed18-365e-4bfc-db23-504f7af69713"
      },
      "execution_count": 7,
      "outputs": [
        {
          "output_type": "stream",
          "name": "stdout",
          "text": [
            "Array A: [1 2 3 4]\n",
            "Array B: [10 20 30 40]\n",
            "Element-wise Multiplication: [ 10  40  90 160]\n"
          ]
        }
      ]
    },
    {
      "cell_type": "code",
      "source": [
        "8. Create a line plot with multiple lines using Matplotlib.\n",
        "\n",
        "\n",
        "import matplotlib.pyplot as plt\n",
        "\n",
        "# Sample data\n",
        "years = [2018, 2019, 2020, 2021, 2022]\n",
        "product_A_sales = [150, 180, 200, 220, 250]\n",
        "product_B_sales = [100, 120, 160, 180, 210]\n",
        "\n",
        "# Plotting multiple lines\n",
        "plt.plot(years, product_A_sales, label='Product A', color='blue', marker='o')\n",
        "plt.plot(years, product_B_sales, label='Product B', color='green', marker='s')\n",
        "\n",
        "# Adding labels and title\n",
        "plt.xlabel('Year')\n",
        "plt.ylabel('Sales')\n",
        "plt.title('Sales Trends for Product A and B')\n",
        "\n",
        "# Show legend and grid\n",
        "plt.legend()\n",
        "plt.grid(True)\n",
        "\n",
        "# Display the plot\n",
        "plt.show()\n"
      ],
      "metadata": {
        "colab": {
          "base_uri": "https://localhost:8080/",
          "height": 472
        },
        "id": "zm_c0PkRvxug",
        "outputId": "69515bdf-072e-4198-b290-f27b8fa39f97"
      },
      "execution_count": 8,
      "outputs": [
        {
          "output_type": "display_data",
          "data": {
            "text/plain": [
              "<Figure size 640x480 with 1 Axes>"
            ],
            "image/png": "[encoded data removed]"
          },
          "metadata": {}
        }
      ]
    },
    {
      "cell_type": "code",
      "source": [
        "9. Generate a Pandas DataFrame and filter rows where a column value is greater than a threshold.\n",
        "\n",
        "\n",
        "import pandas as pd\n",
        "\n",
        "# Step 1: Create a sample DataFrame\n",
        "data = {\n",
        "    'Name': ['Alice', 'Bob', 'Charlie', 'David'],\n",
        "    'Marks': [85, 67, 90, 45]\n",
        "}\n",
        "\n",
        "df = pd.DataFrame(data)\n",
        "\n",
        "# Step 2: Filter rows where 'Marks' > 70\n",
        "filtered_df = df[df['Marks'] > 70]\n",
        "\n",
        "# Step 3: Display the filtered DataFrame\n",
        "print(filtered_df)\n"
      ],
      "metadata": {
        "colab": {
          "base_uri": "https://localhost:8080/"
        },
        "id": "3JoRIBY-v-iY",
        "outputId": "c393ee1a-ef3c-45d4-bdbb-31d90ad1d6cc"
      },
      "execution_count": 9,
      "outputs": [
        {
          "output_type": "stream",
          "name": "stdout",
          "text": [
            "      Name  Marks\n",
            "0    Alice     85\n",
            "2  Charlie     90\n"
          ]
        }
      ]
    },
    {
      "cell_type": "code",
      "source": [
        "10. Create a histogram using Seaborn to visualize a distribution.\n",
        "\n",
        "\n",
        "import seaborn as sns\n",
        "import matplotlib.pyplot as plt\n",
        "import numpy as np\n",
        "\n",
        "# Generate random data (e.g., test scores)\n",
        "data = np.random.normal(loc=70, scale=10, size=100)  # mean=70, std=10, 100 values\n",
        "\n",
        "# Create the histogram\n",
        "sns.histplot(data, bins=10, kde=True, color='skyblue')\n",
        "\n",
        "# Add title and labels\n",
        "plt.title('Distribution of Test Scores')\n",
        "plt.xlabel('Score')\n",
        "plt.ylabel('Frequency')\n",
        "\n",
        "# Show the plot\n",
        "plt.show()\n"
      ],
      "metadata": {
        "colab": {
          "base_uri": "https://localhost:8080/",
          "height": 472
        },
        "id": "krwr6It_wKqu",
        "outputId": "31650544-24f9-4eb5-a08a-d35a492e9ddc"
      },
      "execution_count": 10,
      "outputs": [
        {
          "output_type": "display_data",
          "data": {
            "text/plain": [
              "<Figure size 640x480 with 1 Axes>"
            ],
            "image/png": "[encoded data removed]"
          },
          "metadata": {}
        }
      ]
    },
    {
      "cell_type": "code",
      "source": [
        "11. Perform matrix multiplication using NumPy.\n",
        "\n",
        "import numpy as np\n",
        "\n",
        "# Define two matrices\n",
        "A = np.array([[1, 2],\n",
        "              [3, 4]])\n",
        "\n",
        "B = np.array([[5, 6],\n",
        "              [7, 8]])\n",
        "\n",
        "# Method 1: Using the @ operator (Python 3.5+)\n",
        "result = A @ B\n",
        "\n",
        "# Method 2: Using np.dot()\n",
        "# result = np.dot(A, B)\n",
        "\n",
        "# Display the result\n",
        "print(\"Matrix A:\\n\", A)\n",
        "print(\"Matrix B:\\n\", B)\n",
        "print(\"Matrix Multiplication (A @ B):\\n\", result)\n"
      ],
      "metadata": {
        "colab": {
          "base_uri": "https://localhost:8080/"
        },
        "id": "R_uR7Ap6wXgo",
        "outputId": "ee71930c-70a2-4f98-b217-5c72ba21a416"
      },
      "execution_count": 12,
      "outputs": [
        {
          "output_type": "stream",
          "name": "stdout",
          "text": [
            "Matrix A:\n",
            " [[1 2]\n",
            " [3 4]]\n",
            "Matrix B:\n",
            " [[5 6]\n",
            " [7 8]]\n",
            "Matrix Multiplication (A @ B):\n",
            " [[19 22]\n",
            " [43 50]]\n"
          ]
        }
      ]
    },
    {
      "cell_type": "code",
      "source": [
        "import pandas as pd\n",
        "\n",
        "# Load the CSV file\n",
        "df = pd.read_csv('my_data.csv.txt')\n",
        "\n",
        "# Display the first 5 rows\n",
        "print(df.head())\n",
        "\n",
        "\n",
        "\n",
        "\n"
      ],
      "metadata": {
        "colab": {
          "base_uri": "https://localhost:8080/",
          "height": 356
        },
        "id": "XDn2MSGcwz6q",
        "outputId": "9a21991f-a71d-4e0a-b296-718422a2f82c"
      },
      "execution_count": 21,
      "outputs": [
        {
          "output_type": "error",
          "ename": "FileNotFoundError",
          "evalue": "[Errno 2] No such file or directory: 'my_data.csv.txt'",
          "traceback": [
            "\u001b[0;31m---------------------------------------------------------------------------\u001b[0m",
            "\u001b[0;31mFileNotFoundError\u001b[0m                         Traceback (most recent call last)",
            "\u001b[0;32m/tmp/ipython-input-21-3197181078.py\u001b[0m in \u001b[0;36m<cell line: 0>\u001b[0;34m()\u001b[0m\n\u001b[1;32m      2\u001b[0m \u001b[0;34m\u001b[0m\u001b[0m\n\u001b[1;32m      3\u001b[0m \u001b[0;31m# Load the CSV file\u001b[0m\u001b[0;34m\u001b[0m\u001b[0;34m\u001b[0m\u001b[0m\n\u001b[0;32m----> 4\u001b[0;31m \u001b[0mdf\u001b[0m \u001b[0;34m=\u001b[0m \u001b[0mpd\u001b[0m\u001b[0;34m.\u001b[0m\u001b[0mread_csv\u001b[0m\u001b[0;34m(\u001b[0m\u001b[0;34m'my_data.csv.txt'\u001b[0m\u001b[0;34m)\u001b[0m\u001b[0;34m\u001b[0m\u001b[0;34m\u001b[0m\u001b[0m\n\u001b[0m\u001b[1;32m      5\u001b[0m \u001b[0;34m\u001b[0m\u001b[0m\n\u001b[1;32m      6\u001b[0m \u001b[0;31m# Display the first 5 rows\u001b[0m\u001b[0;34m\u001b[0m\u001b[0;34m\u001b[0m\u001b[0m\n",
            "\u001b[0;32m/usr/local/lib/python3.11/dist-packages/pandas/io/parsers/readers.py\u001b[0m in \u001b[0;36mread_csv\u001b[0;34m(filepath_or_buffer, sep, delimiter, header, names, index_col, usecols, dtype, engine, converters, true_values, false_values, skipinitialspace, skiprows, skipfooter, nrows, na_values, keep_default_na, na_filter, verbose, skip_blank_lines, parse_dates, infer_datetime_format, keep_date_col, date_parser, date_format, dayfirst, cache_dates, iterator, chunksize, compression, thousands, decimal, lineterminator, quotechar, quoting, doublequote, escapechar, comment, encoding, encoding_errors, dialect, on_bad_lines, delim_whitespace, low_memory, memory_map, float_precision, storage_options, dtype_backend)\u001b[0m\n\u001b[1;32m   1024\u001b[0m     \u001b[0mkwds\u001b[0m\u001b[0;34m.\u001b[0m\u001b[0mupdate\u001b[0m\u001b[0;34m(\u001b[0m\u001b[0mkwds_defaults\u001b[0m\u001b[0;34m)\u001b[0m\u001b[0;34m\u001b[0m\u001b[0;34m\u001b[0m\u001b[0m\n\u001b[1;32m   1025\u001b[0m \u001b[0;34m\u001b[0m\u001b[0m\n\u001b[0;32m-> 1026\u001b[0;31m     \u001b[0;32mreturn\u001b[0m \u001b[0m_read\u001b[0m\u001b[0;34m(\u001b[0m\u001b[0mfilepath_or_buffer\u001b[0m\u001b[0;34m,\u001b[0m \u001b[0mkwds\u001b[0m\u001b[0;34m)\u001b[0m\u001b[0;34m\u001b[0m\u001b[0;34m\u001b[0m\u001b[0m\n\u001b[0m\u001b[1;32m   1027\u001b[0m \u001b[0;34m\u001b[0m\u001b[0m\n\u001b[1;32m   1028\u001b[0m \u001b[0;34m\u001b[0m\u001b[0m\n",
            "\u001b[0;32m/usr/local/lib/python3.11/dist-packages/pandas/io/parsers/readers.py\u001b[0m in \u001b[0;36m_read\u001b[0;34m(filepath_or_buffer, kwds)\u001b[0m\n\u001b[1;32m    618\u001b[0m \u001b[0;34m\u001b[0m\u001b[0m\n\u001b[1;32m    619\u001b[0m     \u001b[0;31m# Create the parser.\u001b[0m\u001b[0;34m\u001b[0m\u001b[0;34m\u001b[0m\u001b[0m\n\u001b[0;32m--> 620\u001b[0;31m     \u001b[0mparser\u001b[0m \u001b[0;34m=\u001b[0m \u001b[0mTextFileReader\u001b[0m\u001b[0;34m(\u001b[0m\u001b[0mfilepath_or_buffer\u001b[0m\u001b[0;34m,\u001b[0m \u001b[0;34m**\u001b[0m\u001b[0mkwds\u001b[0m\u001b[0;34m)\u001b[0m\u001b[0;34m\u001b[0m\u001b[0;34m\u001b[0m\u001b[0m\n\u001b[0m\u001b[1;32m    621\u001b[0m \u001b[0;34m\u001b[0m\u001b[0m\n\u001b[1;32m    622\u001b[0m     \u001b[0;32mif\u001b[0m \u001b[0mchunksize\u001b[0m \u001b[0;32mor\u001b[0m \u001b[0miterator\u001b[0m\u001b[0;34m:\u001b[0m\u001b[0;34m\u001b[0m\u001b[0;34m\u001b[0m\u001b[0m\n",
            "\u001b[0;32m/usr/local/lib/python3.11/dist-packages/pandas/io/parsers/readers.py\u001b[0m in \u001b[0;36m__init__\u001b[0;34m(self, f, engine, **kwds)\u001b[0m\n\u001b[1;32m   1618\u001b[0m \u001b[0;34m\u001b[0m\u001b[0m\n\u001b[1;32m   1619\u001b[0m         \u001b[0mself\u001b[0m\u001b[0;34m.\u001b[0m\u001b[0mhandles\u001b[0m\u001b[0;34m:\u001b[0m \u001b[0mIOHandles\u001b[0m \u001b[0;34m|\u001b[0m \u001b[0;32mNone\u001b[0m \u001b[0;34m=\u001b[0m \u001b[0;32mNone\u001b[0m\u001b[0;34m\u001b[0m\u001b[0;34m\u001b[0m\u001b[0m\n\u001b[0;32m-> 1620\u001b[0;31m         \u001b[0mself\u001b[0m\u001b[0;34m.\u001b[0m\u001b[0m_engine\u001b[0m \u001b[0;34m=\u001b[0m \u001b[0mself\u001b[0m\u001b[0;34m.\u001b[0m\u001b[0m_make_engine\u001b[0m\u001b[0;34m(\u001b[0m\u001b[0mf\u001b[0m\u001b[0;34m,\u001b[0m \u001b[0mself\u001b[0m\u001b[0;34m.\u001b[0m\u001b[0mengine\u001b[0m\u001b[0;34m)\u001b[0m\u001b[0;34m\u001b[0m\u001b[0;34m\u001b[0m\u001b[0m\n\u001b[0m\u001b[1;32m   1621\u001b[0m \u001b[0;34m\u001b[0m\u001b[0m\n\u001b[1;32m   1622\u001b[0m     \u001b[0;32mdef\u001b[0m \u001b[0mclose\u001b[0m\u001b[0;34m(\u001b[0m\u001b[0mself\u001b[0m\u001b[0;34m)\u001b[0m \u001b[0;34m->\u001b[0m \u001b[0;32mNone\u001b[0m\u001b[0;34m:\u001b[0m\u001b[0;34m\u001b[0m\u001b[0;34m\u001b[0m\u001b[0m\n",
            "\u001b[0;32m/usr/local/lib/python3.11/dist-packages/pandas/io/parsers/readers.py\u001b[0m in \u001b[0;36m_make_engine\u001b[0;34m(self, f, engine)\u001b[0m\n\u001b[1;32m   1878\u001b[0m                 \u001b[0;32mif\u001b[0m \u001b[0;34m\"b\"\u001b[0m \u001b[0;32mnot\u001b[0m \u001b[0;32min\u001b[0m \u001b[0mmode\u001b[0m\u001b[0;34m:\u001b[0m\u001b[0;34m\u001b[0m\u001b[0;34m\u001b[0m\u001b[0m\n\u001b[1;32m   1879\u001b[0m                     \u001b[0mmode\u001b[0m \u001b[0;34m+=\u001b[0m \u001b[0;34m\"b\"\u001b[0m\u001b[0;34m\u001b[0m\u001b[0;34m\u001b[0m\u001b[0m\n\u001b[0;32m-> 1880\u001b[0;31m             self.handles = get_handle(\n\u001b[0m\u001b[1;32m   1881\u001b[0m                 \u001b[0mf\u001b[0m\u001b[0;34m,\u001b[0m\u001b[0;34m\u001b[0m\u001b[0;34m\u001b[0m\u001b[0m\n\u001b[1;32m   1882\u001b[0m                 \u001b[0mmode\u001b[0m\u001b[0;34m,\u001b[0m\u001b[0;34m\u001b[0m\u001b[0;34m\u001b[0m\u001b[0m\n",
            "\u001b[0;32m/usr/local/lib/python3.11/dist-packages/pandas/io/common.py\u001b[0m in \u001b[0;36mget_handle\u001b[0;34m(path_or_buf, mode, encoding, compression, memory_map, is_text, errors, storage_options)\u001b[0m\n\u001b[1;32m    871\u001b[0m         \u001b[0;32mif\u001b[0m \u001b[0mioargs\u001b[0m\u001b[0;34m.\u001b[0m\u001b[0mencoding\u001b[0m \u001b[0;32mand\u001b[0m \u001b[0;34m\"b\"\u001b[0m \u001b[0;32mnot\u001b[0m \u001b[0;32min\u001b[0m \u001b[0mioargs\u001b[0m\u001b[0;34m.\u001b[0m\u001b[0mmode\u001b[0m\u001b[0;34m:\u001b[0m\u001b[0;34m\u001b[0m\u001b[0;34m\u001b[0m\u001b[0m\n\u001b[1;32m    872\u001b[0m             \u001b[0;31m# Encoding\u001b[0m\u001b[0;34m\u001b[0m\u001b[0;34m\u001b[0m\u001b[0m\n\u001b[0;32m--> 873\u001b[0;31m             handle = open(\n\u001b[0m\u001b[1;32m    874\u001b[0m                 \u001b[0mhandle\u001b[0m\u001b[0;34m,\u001b[0m\u001b[0;34m\u001b[0m\u001b[0;34m\u001b[0m\u001b[0m\n\u001b[1;32m    875\u001b[0m                 \u001b[0mioargs\u001b[0m\u001b[0;34m.\u001b[0m\u001b[0mmode\u001b[0m\u001b[0;34m,\u001b[0m\u001b[0;34m\u001b[0m\u001b[0;34m\u001b[0m\u001b[0m\n",
            "\u001b[0;31mFileNotFoundError\u001b[0m: [Errno 2] No such file or directory: 'my_data.csv.txt'"
          ]
        }
      ]
    },
    {
      "cell_type": "code",
      "metadata": {
        "colab": {
          "base_uri": "https://localhost:8080/"
        },
        "id": "a1b1958b",
        "outputId": "23cf5f43-eb40-4e34-94a4-50e593ed6800"
      },
      "source": [
        "12. Use Pandas to load a CS file and display its first 5 rows.\n",
        "\n",
        "# Create some sample data as an alternative since the file was not found\n",
        "data = {'col1': [1, 2, 3, 4], 'col2': [5, 6, 7, 8]}\n",
        "df = pd.DataFrame(data)\n",
        "\n",
        "# Display the first 5 rows of the created DataFrame\n",
        "print(df.head())"
      ],
      "execution_count": 22,
      "outputs": [
        {
          "output_type": "stream",
          "name": "stdout",
          "text": [
            "   col1  col2\n",
            "0     1     5\n",
            "1     2     6\n",
            "2     3     7\n",
            "3     4     8\n"
          ]
        }
      ]
    },
    {
      "cell_type": "code",
      "source": [
        "13. Create a 3D scatter plot using Plotly.\n",
        "\n",
        "import plotly.graph_objects as go\n",
        "\n",
        "# Sample data\n",
        "x = [1, 2, 3, 4, 5]\n",
        "y = [5, 6, 2, 3, 7]\n",
        "z = [9, 4, 1, 8, 2]\n",
        "\n",
        "# Create a 3D scatter plot\n",
        "fig = go.Figure(data=[go.Scatter3d(\n",
        "    x=x,\n",
        "    y=y,\n",
        "    z=z,\n",
        "    mode='markers',\n",
        "    marker=dict(\n",
        "        size=8,\n",
        "        color=z,              # Color based on z-values\n",
        "        colorscale='Viridis', # Optional colormap\n",
        "        opacity=0.8\n",
        "    )\n",
        ")])\n",
        "\n",
        "# Add layout details\n",
        "fig.update_layout(\n",
        "    title='3D Scatter Plot Example',\n",
        "    scene=dict(\n",
        "        xaxis_title='X Axis',\n",
        "        yaxis_title='Y Axis',\n",
        "        zaxis_title='Z Axis'\n",
        "    )\n",
        ")\n",
        "\n",
        "# Show the plot\n",
        "fig.show()\n"
      ],
      "metadata": {
        "colab": {
          "base_uri": "https://localhost:8080/",
          "height": 542
        },
        "id": "kp66s5s_0Tic",
        "outputId": "f2e3d076-70fd-4390-eab9-a583e6afc1d8"
      },
      "execution_count": 23,
      "outputs": [
        {
          "output_type": "display_data",
          "data": {
            "text/html": [
              "<html>\n",
              "<head><meta charset=\"utf-8\" /></head>\n",
              "<body>\n",
              "    <div>            <script src=\"https://cdnjs.cloudflare.com/ajax/libs/mathjax/2.7.5/MathJax.js?config=TeX-AMS-MML_SVG\"></script><script type=\"text/javascript\">if (window.MathJax && window.MathJax.Hub && window.MathJax.Hub.Config) {window.MathJax.Hub.Config({SVG: {font: \"STIX-Web\"}});}</script>                <script type=\"text/javascript\">window.PlotlyConfig = {MathJaxConfig: 'local'};</script>\n",
              "        <script charset=\"utf-8\" src=\"https://cdn.plot.ly/plotly-2.35.2.min.js\"></script>                <div id=\"54ec35a0-fd6a-409c-be06-c87976c8b4f7\" class=\"plotly-graph-div\" style=\"height:525px; width:100%;\"></div>            <script type=\"text/javascript\">                                    window.PLOTLYENV=window.PLOTLYENV || {};                                    if (document.getElementById(\"54ec35a0-fd6a-409c-be06-c87976c8b4f7\")) {                    Plotly.newPlot(                        \"54ec35a0-fd6a-409c-be06-c87976c8b4f7\",                        [{\"marker\":{\"color\":[9,4,1,8,2],\"colorscale\":[[0.0,\"#440154\"],[0.1111111111111111,\"#482878\"],[0.2222222222222222,\"#3e4989\"],[0.3333333333333333,\"#31688e\"],[0.4444444444444444,\"#26828e\"],[0.5555555555555556,\"#1f9e89\"],[0.6666666666666666,\"#35b779\"],[0.7777777777777778,\"#6ece58\"],[0.8888888888888888,\"#b5de2b\"],[1.0,\"#fde725\"]],\"opacity\":0.8,\"size\":8},\"mode\":\"markers\",\"x\":[1,2,3,4,5],\"y\":[5,6,2,3,7],\"z\":[9,4,1,8,2],\"type\":\"scatter3d\"}],                        {\"template\":{\"data\":{\"histogram2dcontour\":[{\"type\":\"histogram2dcontour\",\"colorbar\":{\"outlinewidth\":0,\"ticks\":\"\"},\"colorscale\":[[0.0,\"#0d0887\"],[0.1111111111111111,\"#46039f\"],[0.2222222222222222,\"#7201a8\"],[0.3333333333333333,\"#9c179e\"],[0.4444444444444444,\"#bd3786\"],[0.5555555555555556,\"#d8576b\"],[0.6666666666666666,\"#ed7953\"],[0.7777777777777778,\"#fb9f3a\"],[0.8888888888888888,\"#fdca26\"],[1.0,\"#f0f921\"]]}],\"choropleth\":[{\"type\":\"choropleth\",\"colorbar\":{\"outlinewidth\":0,\"ticks\":\"\"}}],\"histogram2d\":[{\"type\":\"histogram2d\",\"colorbar\":{\"outlinewidth\":0,\"ticks\":\"\"},\"colorscale\":[[0.0,\"#0d0887\"],[0.1111111111111111,\"#46039f\"],[0.2222222222222222,\"#7201a8\"],[0.3333333333333333,\"#9c179e\"],[0.4444444444444444,\"#bd3786\"],[0.5555555555555556,\"#d8576b\"],[0.6666666666666666,\"#ed7953\"],[0.7777777777777778,\"#fb9f3a\"],[0.8888888888888888,\"#fdca26\"],[1.0,\"#f0f921\"]]}],\"heatmap\":[{\"type\":\"heatmap\",\"colorbar\":{\"outlinewidth\":0,\"ticks\":\"\"},\"colorscale\":[[0.0,\"#0d0887\"],[0.1111111111111111,\"#46039f\"],[0.2222222222222222,\"#7201a8\"],[0.3333333333333333,\"#9c179e\"],[0.4444444444444444,\"#bd3786\"],[0.5555555555555556,\"#d8576b\"],[0.6666666666666666,\"#ed7953\"],[0.7777777777777778,\"#fb9f3a\"],[0.8888888888888888,\"#fdca26\"],[1.0,\"#f0f921\"]]}],\"heatmapgl\":[{\"type\":\"heatmapgl\",\"colorbar\":{\"outlinewidth\":0,\"ticks\":\"\"},\"colorscale\":[[0.0,\"#0d0887\"],[0.1111111111111111,\"#46039f\"],[0.2222222222222222,\"#7201a8\"],[0.3333333333333333,\"#9c179e\"],[0.4444444444444444,\"#bd3786\"],[0.5555555555555556,\"#d8576b\"],[0.6666666666666666,\"#ed7953\"],[0.7777777777777778,\"#fb9f3a\"],[0.8888888888888888,\"#fdca26\"],[1.0,\"#f0f921\"]]}],\"contourcarpet\":[{\"type\":\"contourcarpet\",\"colorbar\":{\"outlinewidth\":0,\"ticks\":\"\"}}],\"contour\":[{\"type\":\"contour\",\"colorbar\":{\"outlinewidth\":0,\"ticks\":\"\"},\"colorscale\":[[0.0,\"#0d0887\"],[0.1111111111111111,\"#46039f\"],[0.2222222222222222,\"#7201a8\"],[0.3333333333333333,\"#9c179e\"],[0.4444444444444444,\"#bd3786\"],[0.5555555555555556,\"#d8576b\"],[0.6666666666666666,\"#ed7953\"],[0.7777777777777778,\"#fb9f3a\"],[0.8888888888888888,\"#fdca26\"],[1.0,\"#f0f921\"]]}],\"surface\":[{\"type\":\"surface\",\"colorbar\":{\"outlinewidth\":0,\"ticks\":\"\"},\"colorscale\":[[0.0,\"#0d0887\"],[0.1111111111111111,\"#46039f\"],[0.2222222222222222,\"#7201a8\"],[0.3333333333333333,\"#9c179e\"],[0.4444444444444444,\"#bd3786\"],[0.5555555555555556,\"#d8576b\"],[0.6666666666666666,\"#ed7953\"],[0.7777777777777778,\"#fb9f3a\"],[0.8888888888888888,\"#fdca26\"],[1.0,\"#f0f921\"]]}],\"mesh3d\":[{\"type\":\"mesh3d\",\"colorbar\":{\"outlinewidth\":0,\"ticks\":\"\"}}],\"scatter\":[{\"fillpattern\":{\"fillmode\":\"overlay\",\"size\":10,\"solidity\":0.2},\"type\":\"scatter\"}],\"parcoords\":[{\"type\":\"parcoords\",\"line\":{\"colorbar\":{\"outlinewidth\":0,\"ticks\":\"\"}}}],\"scatterpolargl\":[{\"type\":\"scatterpolargl\",\"marker\":{\"colorbar\":{\"outlinewidth\":0,\"ticks\":\"\"}}}],\"bar\":[{\"error_x\":{\"color\":\"#2a3f5f\"},\"error_y\":{\"color\":\"#2a3f5f\"},\"marker\":{\"line\":{\"color\":\"#E5ECF6\",\"width\":0.5},\"pattern\":{\"fillmode\":\"overlay\",\"size\":10,\"solidity\":0.2}},\"type\":\"bar\"}],\"scattergeo\":[{\"type\":\"scattergeo\",\"marker\":{\"colorbar\":{\"outlinewidth\":0,\"ticks\":\"\"}}}],\"scatterpolar\":[{\"type\":\"scatterpolar\",\"marker\":{\"colorbar\":{\"outlinewidth\":0,\"ticks\":\"\"}}}],\"histogram\":[{\"marker\":{\"pattern\":{\"fillmode\":\"overlay\",\"size\":10,\"solidity\":0.2}},\"type\":\"histogram\"}],\"scattergl\":[{\"type\":\"scattergl\",\"marker\":{\"colorbar\":{\"outlinewidth\":0,\"ticks\":\"\"}}}],\"scatter3d\":[{\"type\":\"scatter3d\",\"line\":{\"colorbar\":{\"outlinewidth\":0,\"ticks\":\"\"}},\"marker\":{\"colorbar\":{\"outlinewidth\":0,\"ticks\":\"\"}}}],\"scattermapbox\":[{\"type\":\"scattermapbox\",\"marker\":{\"colorbar\":{\"outlinewidth\":0,\"ticks\":\"\"}}}],\"scatterternary\":[{\"type\":\"scatterternary\",\"marker\":{\"colorbar\":{\"outlinewidth\":0,\"ticks\":\"\"}}}],\"scattercarpet\":[{\"type\":\"scattercarpet\",\"marker\":{\"colorbar\":{\"outlinewidth\":0,\"ticks\":\"\"}}}],\"carpet\":[{\"aaxis\":{\"endlinecolor\":\"#2a3f5f\",\"gridcolor\":\"white\",\"linecolor\":\"white\",\"minorgridcolor\":\"white\",\"startlinecolor\":\"#2a3f5f\"},\"baxis\":{\"endlinecolor\":\"#2a3f5f\",\"gridcolor\":\"white\",\"linecolor\":\"white\",\"minorgridcolor\":\"white\",\"startlinecolor\":\"#2a3f5f\"},\"type\":\"carpet\"}],\"table\":[{\"cells\":{\"fill\":{\"color\":\"#EBF0F8\"},\"line\":{\"color\":\"white\"}},\"header\":{\"fill\":{\"color\":\"#C8D4E3\"},\"line\":{\"color\":\"white\"}},\"type\":\"table\"}],\"barpolar\":[{\"marker\":{\"line\":{\"color\":\"#E5ECF6\",\"width\":0.5},\"pattern\":{\"fillmode\":\"overlay\",\"size\":10,\"solidity\":0.2}},\"type\":\"barpolar\"}],\"pie\":[{\"automargin\":true,\"type\":\"pie\"}]},\"layout\":{\"autotypenumbers\":\"strict\",\"colorway\":[\"#636efa\",\"#EF553B\",\"#00cc96\",\"#ab63fa\",\"#FFA15A\",\"#19d3f3\",\"#FF6692\",\"#B6E880\",\"#FF97FF\",\"#FECB52\"],\"font\":{\"color\":\"#2a3f5f\"},\"hovermode\":\"closest\",\"hoverlabel\":{\"align\":\"left\"},\"paper_bgcolor\":\"white\",\"plot_bgcolor\":\"#E5ECF6\",\"polar\":{\"bgcolor\":\"#E5ECF6\",\"angularaxis\":{\"gridcolor\":\"white\",\"linecolor\":\"white\",\"ticks\":\"\"},\"radialaxis\":{\"gridcolor\":\"white\",\"linecolor\":\"white\",\"ticks\":\"\"}},\"ternary\":{\"bgcolor\":\"#E5ECF6\",\"aaxis\":{\"gridcolor\":\"white\",\"linecolor\":\"white\",\"ticks\":\"\"},\"baxis\":{\"gridcolor\":\"white\",\"linecolor\":\"white\",\"ticks\":\"\"},\"caxis\":{\"gridcolor\":\"white\",\"linecolor\":\"white\",\"ticks\":\"\"}},\"coloraxis\":{\"colorbar\":{\"outlinewidth\":0,\"ticks\":\"\"}},\"colorscale\":{\"sequential\":[[0.0,\"#0d0887\"],[0.1111111111111111,\"#46039f\"],[0.2222222222222222,\"#7201a8\"],[0.3333333333333333,\"#9c179e\"],[0.4444444444444444,\"#bd3786\"],[0.5555555555555556,\"#d8576b\"],[0.6666666666666666,\"#ed7953\"],[0.7777777777777778,\"#fb9f3a\"],[0.8888888888888888,\"#fdca26\"],[1.0,\"#f0f921\"]],\"sequentialminus\":[[0.0,\"#0d0887\"],[0.1111111111111111,\"#46039f\"],[0.2222222222222222,\"#7201a8\"],[0.3333333333333333,\"#9c179e\"],[0.4444444444444444,\"#bd3786\"],[0.5555555555555556,\"#d8576b\"],[0.6666666666666666,\"#ed7953\"],[0.7777777777777778,\"#fb9f3a\"],[0.8888888888888888,\"#fdca26\"],[1.0,\"#f0f921\"]],\"diverging\":[[0,\"#8e0152\"],[0.1,\"#c51b7d\"],[0.2,\"#de77ae\"],[0.3,\"#f1b6da\"],[0.4,\"#fde0ef\"],[0.5,\"#f7f7f7\"],[0.6,\"#e6f5d0\"],[0.7,\"#b8e186\"],[0.8,\"#7fbc41\"],[0.9,\"#4d9221\"],[1,\"#276419\"]]},\"xaxis\":{\"gridcolor\":\"white\",\"linecolor\":\"white\",\"ticks\":\"\",\"title\":{\"standoff\":15},\"zerolinecolor\":\"white\",\"automargin\":true,\"zerolinewidth\":2},\"yaxis\":{\"gridcolor\":\"white\",\"linecolor\":\"white\",\"ticks\":\"\",\"title\":{\"standoff\":15},\"zerolinecolor\":\"white\",\"automargin\":true,\"zerolinewidth\":2},\"scene\":{\"xaxis\":{\"backgroundcolor\":\"#E5ECF6\",\"gridcolor\":\"white\",\"linecolor\":\"white\",\"showbackground\":true,\"ticks\":\"\",\"zerolinecolor\":\"white\",\"gridwidth\":2},\"yaxis\":{\"backgroundcolor\":\"#E5ECF6\",\"gridcolor\":\"white\",\"linecolor\":\"white\",\"showbackground\":true,\"ticks\":\"\",\"zerolinecolor\":\"white\",\"gridwidth\":2},\"zaxis\":{\"backgroundcolor\":\"#E5ECF6\",\"gridcolor\":\"white\",\"linecolor\":\"white\",\"showbackground\":true,\"ticks\":\"\",\"zerolinecolor\":\"white\",\"gridwidth\":2}},\"shapedefaults\":{\"line\":{\"color\":\"#2a3f5f\"}},\"annotationdefaults\":{\"arrowcolor\":\"#2a3f5f\",\"arrowhead\":0,\"arrowwidth\":1},\"geo\":{\"bgcolor\":\"white\",\"landcolor\":\"#E5ECF6\",\"subunitcolor\":\"white\",\"showland\":true,\"showlakes\":true,\"lakecolor\":\"white\"},\"title\":{\"x\":0.05},\"mapbox\":{\"style\":\"light\"}}},\"title\":{\"text\":\"3D Scatter Plot Example\"},\"scene\":{\"xaxis\":{\"title\":{\"text\":\"X Axis\"}},\"yaxis\":{\"title\":{\"text\":\"Y Axis\"}},\"zaxis\":{\"title\":{\"text\":\"Z Axis\"}}}},                        {\"responsive\": true}                    ).then(function(){\n",
              "                            \n",
              "var gd = document.getElementById('54ec35a0-fd6a-409c-be06-c87976c8b4f7');\n",
              "var x = new MutationObserver(function (mutations, observer) {{\n",
              "        var display = window.getComputedStyle(gd).display;\n",
              "        if (!display || display === 'none') {{\n",
              "            console.log([gd, 'removed!']);\n",
              "            Plotly.purge(gd);\n",
              "            observer.disconnect();\n",
              "        }}\n",
              "}});\n",
              "\n",
              "// Listen for the removal of the full notebook cells\n",
              "var notebookContainer = gd.closest('#notebook-container');\n",
              "if (notebookContainer) {{\n",
              "    x.observe(notebookContainer, {childList: true});\n",
              "}}\n",
              "\n",
              "// Listen for the clearing of the current output cell\n",
              "var outputEl = gd.closest('.output');\n",
              "if (outputEl) {{\n",
              "    x.observe(outputEl, {childList: true});\n",
              "}}\n",
              "\n",
              "                        })                };                            </script>        </div>\n",
              "</body>\n",
              "</html>"
            ]
          },
          "metadata": {}
        }
      ]
    }
  ]
}